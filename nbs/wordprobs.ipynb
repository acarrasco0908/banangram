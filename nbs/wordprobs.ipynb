{
 "cells": [
  {
   "cell_type": "code",
   "execution_count": 13,
   "metadata": {
    "collapsed": true,
    "deletable": true,
    "editable": true
   },
   "outputs": [],
   "source": [
    "from __future__ import division\n",
    "\n",
    "import random"
   ]
  },
  {
   "cell_type": "code",
   "execution_count": null,
   "metadata": {
    "collapsed": true,
    "deletable": true,
    "editable": true
   },
   "outputs": [],
   "source": []
  },
  {
   "cell_type": "code",
   "execution_count": 335,
   "metadata": {
    "collapsed": true,
    "deletable": true,
    "editable": true
   },
   "outputs": [],
   "source": [
    "chars = ['a', 'i', 'c', 'f']\n",
    "P = 1/len(chars)\n",
    "\n",
    "P_a = 0.25\n",
    "P_i = 0.2\n",
    "P_c = 0.3\n",
    "P_f = 1 - P_i - P_a - P_c\n",
    "p = [P_a, P_i, P_c, P_f]\n",
    "\n",
    "N = 3\n"
   ]
  },
  {
   "cell_type": "code",
   "execution_count": 300,
   "metadata": {
    "collapsed": false,
    "deletable": true,
    "editable": true
   },
   "outputs": [],
   "source": [
    "def numerical_prob(word, N, Ntests = 10000, p=None):\n",
    "    Ngood = 0\n",
    "    for i in range(Ntests):\n",
    "        rack = [np.random.choice(chars, p=p) for i in range(N)]\n",
    "        good = True\n",
    "        for c in word:\n",
    "            if c in rack:\n",
    "                rack.remove(c)\n",
    "            else:\n",
    "                good = False\n",
    "                break\n",
    "        if good: Ngood+=1\n",
    "    return Ngood/Ntests"
   ]
  },
  {
   "cell_type": "code",
   "execution_count": 305,
   "metadata": {
    "collapsed": false,
    "deletable": true,
    "editable": true
   },
   "outputs": [
    {
     "name": "stdout",
     "output_type": "stream",
     "text": [
      "predicted prob: 0.4375\n",
      "computed prob : 0.4364\n"
     ]
    }
   ],
   "source": [
    "print('predicted prob: {}'.format(2*P_i*(1-P_i) + P_i**2))\n",
    "print('computed prob : {}'.format(numerical_prob('a', 2, p=p)))"
   ]
  },
  {
   "cell_type": "code",
   "execution_count": 318,
   "metadata": {
    "collapsed": false,
    "deletable": true,
    "editable": true
   },
   "outputs": [
    {
     "name": "stdout",
     "output_type": "stream",
     "text": [
      "predicted prob: 0.578125\n",
      "computed prob : 0.5817\n"
     ]
    }
   ],
   "source": [
    "print('predicted prob: {}'.format(3*P_i*(1-P_i)*(1-P_i) + 3*P_i*P_i*(1-P_i) + P_i**3))\n",
    "print('computed prob : {}'.format(numerical_prob('a', 3, p=p)))"
   ]
  },
  {
   "cell_type": "code",
   "execution_count": null,
   "metadata": {
    "collapsed": true,
    "deletable": true,
    "editable": true
   },
   "outputs": [],
   "source": []
  },
  {
   "cell_type": "code",
   "execution_count": 316,
   "metadata": {
    "collapsed": false,
    "deletable": true,
    "editable": true
   },
   "outputs": [
    {
     "name": "stdout",
     "output_type": "stream",
     "text": [
      "predicted prob: 0.125\n",
      "computed prob : 0.125\n"
     ]
    }
   ],
   "source": [
    "print('predicted prob: {}'.format(P_i*P_i*2))\n",
    "print('computed prob : {}'.format(numerical_prob('ai', 2, p=p)))"
   ]
  },
  {
   "cell_type": "markdown",
   "metadata": {},
   "source": [
    "The probability of the word 'ai' being in a rack of three tiles.\n",
    "\n",
    "$$P_aP_iP_c + P_aP_iP_i + P_aP_iP_a = P_aP_i(P_a+P_i+P_c) = P_aP_i$$\n",
    "\n",
    "$$P_cP_aP_i = (1 - P_a - P_i)P_aP_c$$\n",
    "\n",
    "$$P_a(1-P_i)P_i$$\n",
    "\n",
    "$$P_aP_i + P_a(1 - P_a - P_i)P_i + P_a(1-P_i)P_i = P_aP_i (1 + (1-P_i) + (1 - P_i - P_a))$$"
   ]
  },
  {
   "cell_type": "code",
   "execution_count": 358,
   "metadata": {
    "collapsed": false,
    "deletable": true,
    "editable": true
   },
   "outputs": [
    {
     "name": "stdout",
     "output_type": "stream",
     "text": [
      "predicted prob: 0.2325\n",
      "computed prob : 0.2321\n"
     ]
    }
   ],
   "source": [
    "print('predicted prob: {}'.format(P_i*P_a*3*((1-P_a)*(1-P_i)+(1-P_a*P_i))))\n",
    "print('computed prob : {}'.format(numerical_prob('ai', 3, p=p)))"
   ]
  },
  {
   "cell_type": "markdown",
   "metadata": {},
   "source": [
    "$$P_aP_i$$\n",
    "$$P_a(1-P_i)P_i$$\n",
    "$$P_a(1-P_i)(1-P_i)P_i$$\n",
    "$$(1-P_i-P_a)P_iP_a$$\n",
    "$$(1-P_i-P_a)(1-P_i-P_a)P_iP_a$$\n",
    "$$(1-P_i-P_a)(1-P_i)P_iP_a$$"
   ]
  },
  {
   "cell_type": "code",
   "execution_count": 356,
   "metadata": {
    "collapsed": false
   },
   "outputs": [
    {
     "data": {
      "text/plain": [
       "0.23250000000000004"
      ]
     },
     "execution_count": 356,
     "metadata": {},
     "output_type": "execute_result"
    }
   ],
   "source": [
    "P_i*P_a*3*((1-P_a)*(1-P_i)+(1-P_a*P_i))"
   ]
  },
  {
   "cell_type": "code",
   "execution_count": 284,
   "metadata": {
    "collapsed": false
   },
   "outputs": [
    {
     "data": {
      "text/plain": [
       "0.31040000000000006"
      ]
     },
     "execution_count": 284,
     "metadata": {},
     "output_type": "execute_result"
    }
   ],
   "source": [
    "2*P*P*(1 + (1-P) + (1-P)**2 + (1-P-P) + (1-P-P)**2 + (1-P)*(1-P-P))"
   ]
  },
  {
   "cell_type": "code",
   "execution_count": 292,
   "metadata": {
    "collapsed": true
   },
   "outputs": [],
   "source": [
    "np.random.choice?"
   ]
  },
  {
   "cell_type": "code",
   "execution_count": 352,
   "metadata": {
    "collapsed": false
   },
   "outputs": [
    {
     "name": "stdout",
     "output_type": "stream",
     "text": [
      "predicted prob: 0.3104\n",
      "computed prob : 0.3729\n"
     ]
    }
   ],
   "source": [
    "print('predicted prob: {}'.format(np.math.factorial(len('ai'))*P_i*P_i*(1 + (1-P_i) + (1-P_i)**2 + (1-P_i-P_i) + \n",
    "                                                                (1-P_i-P_i)**2 + (1-P_i)*(1-P_i-P_i))))\n",
    "print('computed prob : {}'.format(numerical_prob('ai', 4, p=p)))"
   ]
  },
  {
   "cell_type": "code",
   "execution_count": 279,
   "metadata": {
    "collapsed": false
   },
   "outputs": [
    {
     "data": {
      "text/plain": [
       "0.2880000000000001"
      ]
     },
     "execution_count": 279,
     "metadata": {},
     "output_type": "execute_result"
    }
   ],
   "source": [
    "P*P*(1 + (1 - P) + (1 - P - P))*3"
   ]
  },
  {
   "cell_type": "code",
   "execution_count": 263,
   "metadata": {
    "collapsed": false,
    "deletable": true,
    "editable": true
   },
   "outputs": [
    {
     "name": "stdout",
     "output_type": "stream",
     "text": [
      "predicted prob: 0.0192\n",
      "computed prob : 0.0207\n"
     ]
    }
   ],
   "source": [
    "print('predicted prob: {}'.format(P*P*P*P*np.math.factorial(4)/2))\n",
    "print('computed prob : {}'.format(numerical_prob('aica', 4)))"
   ]
  },
  {
   "cell_type": "code",
   "execution_count": null,
   "metadata": {
    "collapsed": true,
    "deletable": true,
    "editable": true
   },
   "outputs": [],
   "source": []
  },
  {
   "cell_type": "code",
   "execution_count": 350,
   "metadata": {
    "collapsed": false,
    "deletable": true,
    "editable": true
   },
   "outputs": [
    {
     "name": "stdout",
     "output_type": "stream",
     "text": [
      "predicted prob: 0.1125\n",
      "computed prob : 0.1079\n"
     ]
    }
   ],
   "source": [
    "print('predicted prob: {}'.format(3*2*P_c*P_a*P_f))\n",
    "print('computed prob : {}'.format(numerical_prob('fac', 3, p=p)))"
   ]
  },
  {
   "cell_type": "code",
   "execution_count": null,
   "metadata": {
    "collapsed": true
   },
   "outputs": [],
   "source": []
  },
  {
   "cell_type": "code",
   "execution_count": null,
   "metadata": {
    "collapsed": true
   },
   "outputs": [],
   "source": []
  },
  {
   "cell_type": "code",
   "execution_count": 347,
   "metadata": {
    "collapsed": false
   },
   "outputs": [
    {
     "data": {
      "text/plain": [
       "6.0"
      ]
     },
     "execution_count": 347,
     "metadata": {},
     "output_type": "execute_result"
    }
   ],
   "source": [
    "binom(4,2)"
   ]
  },
  {
   "cell_type": "code",
   "execution_count": null,
   "metadata": {
    "collapsed": true
   },
   "outputs": [],
   "source": []
  },
  {
   "cell_type": "code",
   "execution_count": null,
   "metadata": {
    "collapsed": true
   },
   "outputs": [],
   "source": []
  },
  {
   "cell_type": "code",
   "execution_count": null,
   "metadata": {
    "collapsed": true
   },
   "outputs": [],
   "source": []
  },
  {
   "cell_type": "code",
   "execution_count": null,
   "metadata": {
    "collapsed": true,
    "deletable": true,
    "editable": true
   },
   "outputs": [],
   "source": []
  },
  {
   "cell_type": "code",
   "execution_count": null,
   "metadata": {
    "collapsed": true,
    "deletable": true,
    "editable": true
   },
   "outputs": [],
   "source": []
  },
  {
   "cell_type": "code",
   "execution_count": null,
   "metadata": {
    "collapsed": true,
    "deletable": true,
    "editable": true
   },
   "outputs": [],
   "source": []
  },
  {
   "cell_type": "code",
   "execution_count": null,
   "metadata": {
    "collapsed": true,
    "deletable": true,
    "editable": true
   },
   "outputs": [],
   "source": [
    "3*P*(1-P)*(1-P) + 3*P*P*(1-P) + P**3"
   ]
  },
  {
   "cell_type": "code",
   "execution_count": 137,
   "metadata": {
    "collapsed": false,
    "deletable": true,
    "editable": true
   },
   "outputs": [
    {
     "data": {
      "text/plain": [
       "0.33333333333333326"
      ]
     },
     "execution_count": 137,
     "metadata": {},
     "output_type": "execute_result"
    }
   ],
   "source": [
    "9 * P**3"
   ]
  },
  {
   "cell_type": "code",
   "execution_count": 86,
   "metadata": {
    "collapsed": false,
    "deletable": true,
    "editable": true
   },
   "outputs": [
    {
     "name": "stdout",
     "output_type": "stream",
     "text": [
      "computed prob : 0.6244\n"
     ]
    }
   ],
   "source": [
    "print('computed prob : {}'.format(numerical_prob('ai', 3, 10000)))"
   ]
  },
  {
   "cell_type": "code",
   "execution_count": 177,
   "metadata": {
    "collapsed": false,
    "deletable": true,
    "editable": true
   },
   "outputs": [],
   "source": [
    "rack.remove"
   ]
  },
  {
   "cell_type": "code",
   "execution_count": 45,
   "metadata": {
    "collapsed": false,
    "deletable": true,
    "editable": true
   },
   "outputs": [],
   "source": [
    "from scipy.special import binom"
   ]
  },
  {
   "cell_type": "code",
   "execution_count": 46,
   "metadata": {
    "collapsed": false,
    "deletable": true,
    "editable": true
   },
   "outputs": [
    {
     "data": {
      "text/plain": [
       "3.0"
      ]
     },
     "execution_count": 46,
     "metadata": {},
     "output_type": "execute_result"
    }
   ],
   "source": [
    "binom(3, 1)"
   ]
  },
  {
   "cell_type": "code",
   "execution_count": 157,
   "metadata": {
    "collapsed": true,
    "deletable": true,
    "editable": true
   },
   "outputs": [],
   "source": [
    "import itertools"
   ]
  },
  {
   "cell_type": "code",
   "execution_count": 156,
   "metadata": {
    "collapsed": false,
    "deletable": true,
    "editable": true
   },
   "outputs": [
    {
     "name": "stdout",
     "output_type": "stream",
     "text": [
      "['c', 'i', 'c']\n",
      "    >>> ['c', 'i']\n",
      "    >>> BAD!\n",
      "['i', 'a', 'a']\n",
      "    >>> ['i', 'a']\n",
      "    >>> ['i']\n",
      "    >>> GOOD\n",
      "['a', 'c', 'c']\n",
      "    >>> ['a', 'c']\n",
      "    >>> BAD!\n",
      "['a', 'a', 'c']\n",
      "    >>> ['a', 'a']\n",
      "    >>> BAD!\n",
      "['a', 'i', 'c']\n",
      "    >>> ['a', 'i']\n",
      "    >>> ['a']\n",
      "    >>> GOOD\n",
      "['a', 'c', 'i']\n",
      "    >>> ['a', 'c']\n",
      "    >>> BAD!\n",
      "['a', 'c', 'a']\n",
      "    >>> ['a', 'c']\n",
      "    >>> BAD!\n",
      "['a', 'a', 'c']\n",
      "    >>> ['a', 'a']\n",
      "    >>> BAD!\n",
      "['a', 'a', 'a']\n",
      "    >>> ['a', 'a']\n",
      "    >>> BAD!\n",
      "['c', 'i', 'i']\n",
      "    >>> ['c', 'i']\n",
      "    >>> BAD!\n",
      "['i', 'i', 'a']\n",
      "    >>> ['i', 'i']\n",
      "    >>> ['i']\n",
      "    >>> GOOD\n",
      "['i', 'c', 'a']\n",
      "    >>> ['i', 'c']\n",
      "    >>> ['i']\n",
      "    >>> GOOD\n",
      "['i', 'a', 'i']\n",
      "    >>> ['i', 'a']\n",
      "    >>> ['i']\n",
      "    >>> GOOD\n",
      "['c', 'a', 'i']\n",
      "    >>> ['c', 'a']\n",
      "    >>> BAD!\n",
      "['c', 'i', 'c']\n",
      "    >>> ['c', 'i']\n",
      "    >>> BAD!\n",
      "['c', 'i', 'i']\n",
      "    >>> ['c', 'i']\n",
      "    >>> BAD!\n",
      "['a', 'c', 'a']\n",
      "    >>> ['a', 'c']\n",
      "    >>> BAD!\n",
      "['i', 'c', 'c']\n",
      "    >>> ['i', 'c']\n",
      "    >>> BAD!\n",
      "['a', 'a', 'i']\n",
      "    >>> ['a', 'a']\n",
      "    >>> BAD!\n",
      "['a', 'c', 'i']\n",
      "    >>> ['a', 'c']\n",
      "    >>> BAD!\n"
     ]
    }
   ],
   "source": [
    "for x in range(20):\n",
    "    rack = [random.choice(chars) for i in range(N)]\n",
    "    print(rack)\n",
    "    good = True\n",
    "    for c in 'ai':\n",
    "        if c in rack:\n",
    "            rack.pop()\n",
    "            print('    >>> {0}'.format(rack))\n",
    "        else:\n",
    "            good = False\n",
    "    print('    >>> {0}'.format('GOOD' if good else 'BAD!'))"
   ]
  },
  {
   "cell_type": "code",
   "execution_count": 174,
   "metadata": {
    "collapsed": false,
    "deletable": true,
    "editable": true
   },
   "outputs": [
    {
     "name": "stdout",
     "output_type": "stream",
     "text": [
      "('a', 'a', 'a') : 1.0\n",
      "('a', 'a', 'i') : 3.0\n",
      "('a', 'a', 'c') : 3.0\n",
      "('a', 'i', 'i') : 3.0\n",
      "('a', 'i', 'c') : 6.0\n",
      "('a', 'c', 'c') : 3.0\n",
      "('i', 'i', 'i') : 1.0\n",
      "('i', 'i', 'c') : 3.0\n",
      "('i', 'c', 'c') : 3.0\n",
      "('c', 'c', 'c') : 1.0\n"
     ]
    }
   ],
   "source": [
    "for rack in itertools.combinations_with_replacement('aic', 3):\n",
    "    print('{0} : {1}'.format(rack, 6/reduce(lambda x,y: x*y, \n",
    "                                            [np.math.factorial(sum([l==c for c in rack])) for l in set(rack)])))"
   ]
  },
  {
   "cell_type": "code",
   "execution_count": 172,
   "metadata": {
    "collapsed": false,
    "deletable": true,
    "editable": true
   },
   "outputs": [
    {
     "name": "stdout",
     "output_type": "stream",
     "text": [
      "('a', 'a', 'a')\n",
      "6\n",
      "('a', 'a', 'a')\n",
      "6\n",
      "('a', 'a', 'a')\n",
      "6\n",
      "('a', 'a', 'a')\n",
      "6\n",
      "('a', 'a', 'a')\n",
      "6\n",
      "('a', 'a', 'a')\n",
      "6\n"
     ]
    }
   ],
   "source": [
    "for x in itertools.permutations(('a', 'a', 'a')):\n",
    "    print x\n",
    "    print reduce(lambda x,y: x*y, [np.math.factorial(sum([l==c for c in x])) for l in set(x)])"
   ]
  },
  {
   "cell_type": "code",
   "execution_count": 169,
   "metadata": {
    "collapsed": true,
    "deletable": true,
    "editable": true
   },
   "outputs": [],
   "source": [
    "import numpy as np"
   ]
  },
  {
   "cell_type": "code",
   "execution_count": 171,
   "metadata": {
    "collapsed": false,
    "deletable": true,
    "editable": true
   },
   "outputs": [
    {
     "data": {
      "text/plain": [
       "6"
      ]
     },
     "execution_count": 171,
     "metadata": {},
     "output_type": "execute_result"
    }
   ],
   "source": [
    "np.math.factorial(3)"
   ]
  },
  {
   "cell_type": "code",
   "execution_count": null,
   "metadata": {
    "collapsed": true,
    "deletable": true,
    "editable": true
   },
   "outputs": [],
   "source": []
  }
 ],
 "metadata": {
  "kernelspec": {
   "display_name": "Python 2",
   "language": "python",
   "name": "python2"
  },
  "language_info": {
   "codemirror_mode": {
    "name": "ipython",
    "version": 2
   },
   "file_extension": ".py",
   "mimetype": "text/x-python",
   "name": "python",
   "nbconvert_exporter": "python",
   "pygments_lexer": "ipython2",
   "version": "2.7.13"
  }
 },
 "nbformat": 4,
 "nbformat_minor": 2
}
